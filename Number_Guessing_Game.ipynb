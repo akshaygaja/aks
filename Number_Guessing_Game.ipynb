{
  "nbformat": 4,
  "nbformat_minor": 0,
  "metadata": {
    "colab": {
      "provenance": [],
      "authorship_tag": "ABX9TyN7yW+h4qbXRI6lam9DoaUm",
      "include_colab_link": true
    },
    "kernelspec": {
      "name": "python3",
      "display_name": "Python 3"
    },
    "language_info": {
      "name": "python"
    }
  },
  "cells": [
    {
      "cell_type": "markdown",
      "metadata": {
        "id": "view-in-github",
        "colab_type": "text"
      },
      "source": [
        "<a href=\"https://colab.research.google.com/github/akshaygaja/aks/blob/main/Number_Guessing_Game.ipynb\" target=\"_parent\"><img src=\"https://colab.research.google.com/assets/colab-badge.svg\" alt=\"Open In Colab\"/></a>"
      ]
    },
    {
      "cell_type": "code",
      "execution_count": null,
      "metadata": {
        "id": "tKxda9rtsypD",
        "colab": {
          "base_uri": "https://localhost:8080/"
        },
        "outputId": "bfbc0cca-9d5f-4211-c0f4-87168abf3aa2"
      },
      "outputs": [
        {
          "output_type": "stream",
          "name": "stdout",
          "text": [
            "I'm thinking of a number between 1 and 100.\n",
            "Enter your guess: 99\n",
            "Too high.\n",
            "Enter your guess: 3\n",
            "Too low.\n",
            "Enter your guess: 4\n",
            "Too low.\n"
          ]
        }
      ],
      "source": [
        "import random\n",
        "\n",
        "def get_user_guess():\n",
        "  \"\"\"Gets a valid user guess within the specified range.\"\"\"\n",
        "  while True:\n",
        "    try:\n",
        "      guess = int(input(\"Enter your guess: \"))\n",
        "      if 1 <= guess <= 100:\n",
        "        return guess\n",
        "      else:\n",
        "        print(\"Invalid guess. Please enter a number between 1 and 100.\")\n",
        "    except ValueError:\n",
        "      print(\"Invalid input. Please enter a number.\")\n",
        "\n",
        "def play_game():\n",
        "  \"\"\"Plays the number guessing game.\"\"\"\n",
        "  secret_number = random.randint(1, 100)\n",
        "  attempts = 0\n",
        "\n",
        "  print(\"I'm thinking of a number between 1 and 100.\")\n",
        "\n",
        "  while True:\n",
        "    attempts += 1\n",
        "    guess = get_user_guess()\n",
        "\n",
        "    if guess == secret_number:\n",
        "      print(f\"Congratulations! You guessed the number in {attempts} attempts.\")\n",
        "      break\n",
        "    elif guess < secret_number:\n",
        "      print(\"Too low.\")\n",
        "    else:\n",
        "      print(\"Too high.\")\n",
        "if __name__ == \"__main__\":\n",
        "  play_game()\n",
        "\n",
        "\n"
      ]
    },
    {
      "cell_type": "code",
      "source": [],
      "metadata": {
        "id": "wTZB3KXZxhJL"
      },
      "execution_count": null,
      "outputs": []
    }
  ]
}